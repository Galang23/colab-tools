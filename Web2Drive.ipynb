{
  "nbformat": 4,
  "nbformat_minor": 0,
  "metadata": {
    "colab": {
      "name": "Web2Drive.ipynb",
      "provenance": [],
      "collapsed_sections": [
        "gT1gM4g9Gq3a",
        "jQbaCn7VHkz5"
      ],
      "toc_visible": true
    },
    "kernelspec": {
      "name": "python3",
      "display_name": "Python 3"
    }
  },
  "cells": [
    {
      "cell_type": "markdown",
      "metadata": {
        "id": "gT1gM4g9Gq3a",
        "colab_type": "text"
      },
      "source": [
        "# Mount/Unmount Google Drive"
      ]
    },
    {
      "cell_type": "code",
      "metadata": {
        "id": "tg6Z63EXFiVn",
        "colab_type": "code",
        "colab": {},
        "cellView": "both"
      },
      "source": [
        "#@title Select Option { run: \"auto\" }\n",
        "from google.colab import drive\n",
        "\n",
        "Action = \"Please select action\" #@param [\"Please select action\", \"Mount Google Drive\", \"Unmount Google Drive\"]\n",
        "if Action == \"Mount Google Drive\":\n",
        "  drive.mount('/content/drive')\n",
        "  print(\"Mounted Google Drive on /content/drive\")\n",
        "elif Action == \"Unmount Google Drive\":\n",
        "  drive.flush_and_unmount()\n",
        "  print(\"Unmounted Google Drive from /content/drive\")"
      ],
      "execution_count": 0,
      "outputs": []
    },
    {
      "cell_type": "markdown",
      "metadata": {
        "id": "jQbaCn7VHkz5",
        "colab_type": "text"
      },
      "source": [
        "# Specify Download Options"
      ]
    },
    {
      "cell_type": "markdown",
      "metadata": {
        "id": "-ku8P9SQGwXh",
        "colab_type": "text"
      },
      "source": [
        "Insert your direct URL (link) to the file\n"
      ]
    },
    {
      "cell_type": "code",
      "metadata": {
        "id": "JToDs7E5FovD",
        "colab_type": "code",
        "cellView": "form",
        "colab": {}
      },
      "source": [
        "#@markdown <-- Click that play button to start downloading\n",
        "import os\n",
        "\n",
        "File_URI = \"\" #@param {type:\"string\"}\n",
        "os.environ[\"url\"] = File_URI\n",
        "\n",
        "Download_Location = \"/content/drive/My Drive/\" #@param {type:\"string\"}\n",
        "os.environ[\"dlpath\"] = Download_Location\n",
        "\n",
        "#@markdown Check this if you want to save it with a custom file name\n",
        "Custom_File_Name = False #@param {type:\"boolean\"}\n",
        "os.environ[\"customname\"] = str(Custom_File_Name).lower()\n",
        "if Custom_File_Name == True:\n",
        "  Custom_Filename = \"\" #@param {type:\"string\"}\n",
        "  os.environ[\"filename\"] = \"/\" + File_Name\n",
        "elif Custom_File_Name == False:\n",
        "  os.environ[\"filename\"] = \"\"\n",
        "\n",
        "!if [ $customname = \"true\" ]; then wget -O \"$dlpath$filename\" \"$url\"; else wget \\\n",
        "-P \"$dlpath\" \"$url\"; fi\n"
      ],
      "execution_count": 0,
      "outputs": []
    }
  ]
}